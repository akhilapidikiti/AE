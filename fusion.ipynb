{
  "nbformat": 4,
  "nbformat_minor": 0,
  "metadata": {
    "colab": {
      "name": "fusion.ipynb",
      "provenance": [],
      "collapsed_sections": [],
      "mount_file_id": "1qsrnUEvgkxNDw1IyM-XtCydh8ZCWab4a",
      "authorship_tag": "ABX9TyP2beM0XrGPX1U+bt7s4Xtn",
      "include_colab_link": true
    },
    "kernelspec": {
      "name": "python3",
      "display_name": "Python 3"
    },
    "language_info": {
      "name": "python"
    }
  },
  "cells": [
    {
      "cell_type": "markdown",
      "metadata": {
        "id": "view-in-github",
        "colab_type": "text"
      },
      "source": [
        "<a href=\"https://colab.research.google.com/github/akhilapidikiti/AE/blob/main/fusion.ipynb\" target=\"_parent\"><img src=\"https://colab.research.google.com/assets/colab-badge.svg\" alt=\"Open In Colab\"/></a>"
      ]
    },
    {
      "cell_type": "code",
      "execution_count": null,
      "metadata": {
        "colab": {
          "base_uri": "https://localhost:8080/"
        },
        "id": "WvIhksW1_JUC",
        "outputId": "166bae4b-bae1-4b39-bce5-ce492771e5c0"
      },
      "outputs": [
        {
          "output_type": "execute_result",
          "data": {
            "text/plain": [
              "4000"
            ]
          },
          "metadata": {},
          "execution_count": 8
        }
      ],
      "source": [
        "import os\n",
        "len(os.listdir('/content/drive/MyDrive/dev_data_ToyCar/ToyCar/train'))"
      ]
    },
    {
      "cell_type": "code",
      "source": [
        "Normal wav -> 4000    /content/drive/MyDrive/dev_data_ToyCar/ToyCar/train\n",
        "Abnormal wav -> 1059  /content/drive/MyDrive/ToyCar_abnormal_wav"
      ],
      "metadata": {
        "colab": {
          "base_uri": "https://localhost:8080/"
        },
        "id": "r6Lza3oQAUzY",
        "outputId": "4c45adc3-a635-435b-f939-25eea3f714f4"
      },
      "execution_count": null,
      "outputs": [
        {
          "output_type": "execute_result",
          "data": {
            "text/plain": [
              "1400"
            ]
          },
          "metadata": {},
          "execution_count": 7
        }
      ]
    },
    {
      "cell_type": "code",
      "source": [
        "#Augmented only abnormal data"
      ],
      "metadata": {
        "id": "5fWwxUu5AqE5"
      },
      "execution_count": null,
      "outputs": []
    },
    {
      "cell_type": "code",
      "source": [
        "import tensorflow as tf\n",
        "import numpy as np\n",
        "import cv2\n",
        "import os\n",
        "import matplotlib.pyplot as plt\n",
        "from tensorflow.keras.layers import Dense,Reshape, Conv2D, Input, BatchNormalization, MaxPooling2D, UpSampling2D, Dropout, BatchNormalization, LSTM, Conv1D, Flatten, TimeDistributed, InputLayer\n",
        "#from keras.models import Model, load_model\n",
        "from tensorflow.keras.models import Model, load_model   # tensorflow.keras\n",
        "from tensorflow.keras import callbacks\n",
        "from google.colab.patches import cv2_imshow \n",
        "from tensorflow.keras.preprocessing.image import ImageDataGenerator\n",
        "#from keras.optimizers import Adam               \n",
        "from tensorflow.keras import optimizers\n",
        "from sklearn.model_selection import train_test_split\n",
        "import torch   "
      ],
      "metadata": {
        "id": "jf2dp5EkBMu7"
      },
      "execution_count": null,
      "outputs": []
    },
    {
      "cell_type": "code",
      "source": [
        "mel_bins =  128 # 128\n",
        "frames =  313\n",
        "skip_frames =  1\n",
        "n_fft = 1024\n",
        "hop_length =  512\n",
        "win_length = 1024\n",
        "power = 2.0\n",
        "sr = 16000"
      ],
      "metadata": {
        "id": "rnoWWXpWF-GF"
      },
      "execution_count": null,
      "outputs": []
    },
    {
      "cell_type": "code",
      "source": [
        "y, sr = librosa.load('/content/drive/MyDrive/dev_data_ToyCar/ToyCar/train/normal_id_01_00000000.wav')\n",
        "hop_length = 512\n",
        "oenv = librosa.onset.onset_strength(y=x, sr=sr, hop_length=hop_length)\n",
        "tempogram = librosa.feature.tempogram(onset_envelope=oenv, sr=sr,\n",
        "                                      hop_length=hop_length)\n",
        "librosa.display.specshow(tempogram, sr=sr, hop_length=hop_length, cmap='magma')\n",
        "fig.savefig('/content/drive/MyDrive/'+'.tgram.png')"
      ],
      "metadata": {
        "colab": {
          "base_uri": "https://localhost:8080/",
          "height": 252
        },
        "id": "Wu9Z88ca-FKb",
        "outputId": "e2d25985-1e8a-49e0-e253-5c80a9a8e21a"
      },
      "execution_count": 58,
      "outputs": [
        {
          "output_type": "display_data",
          "data": {
            "text/plain": [
              "<Figure size 432x288 with 1 Axes>"
            ],
            "image/png": "[encoded data removed]"
          },
          "metadata": {}
        }
      ]
    },
    {
      "cell_type": "code",
      "source": [
        "tempogram"
      ],
      "metadata": {
        "colab": {
          "base_uri": "https://localhost:8080/"
        },
        "id": "vEvYGzoY_UVX",
        "outputId": "2bee7c37-c3db-4a0c-c206-ba5a7dc428aa"
      },
      "execution_count": null,
      "outputs": [
        {
          "output_type": "execute_result",
          "data": {
            "text/plain": [
              "array([[ 1.00000000e+00,  1.00000000e+00,  1.00000000e+00, ...,\n",
              "         1.00000000e+00,  1.00000000e+00,  1.00000000e+00],\n",
              "       [ 9.26103244e-01,  9.26131743e-01,  9.26160999e-01, ...,\n",
              "         9.23919457e-01,  9.24025145e-01,  9.24135314e-01],\n",
              "       [ 8.35146499e-01,  8.35228788e-01,  8.35312683e-01, ...,\n",
              "         8.17012232e-01,  8.17093822e-01,  8.17188732e-01],\n",
              "       ...,\n",
              "       [-3.55880959e-17,  1.29598394e-16,  7.43419070e-17, ...,\n",
              "         3.13185383e-12,  2.52804265e-12,  1.98535660e-12],\n",
              "       [-1.45015866e-17,  1.56631366e-16,  1.36059843e-16, ...,\n",
              "         3.42062297e-13,  2.20111522e-13,  1.52400340e-13],\n",
              "       [-9.51015574e-18,  1.43454655e-16,  1.54980429e-16, ...,\n",
              "        -1.28365426e-17,  5.22970381e-17,  1.84499434e-16]])"
            ]
          },
          "metadata": {},
          "execution_count": 50
        }
      ]
    },
    {
      "cell_type": "code",
      "source": [
        "#@title\n",
        "x_wav.shape"
      ],
      "metadata": {
        "colab": {
          "base_uri": "https://localhost:8080/"
        },
        "id": "qj1fpk7TGHQF",
        "outputId": "3ebf89bd-8304-4247-f505-9e1d051c1dc2"
      },
      "execution_count": 53,
      "outputs": [
        {
          "output_type": "execute_result",
          "data": {
            "text/plain": [
              "torch.Size([1, 1, 220500])"
            ]
          },
          "metadata": {},
          "execution_count": 53
        }
      ]
    },
    {
      "cell_type": "code",
      "source": [
        "#@title\n",
        "x_wav = x[None, None, :sr * 10]\n",
        "x_wav = torch.from_numpy(x_wav)\n",
        "x_wav = x_wav.float()"
      ],
      "metadata": {
        "id": "bis4KJWiMD7D",
        "cellView": "form"
      },
      "execution_count": null,
      "outputs": []
    },
    {
      "cell_type": "code",
      "source": [
        "lrelu = lambda x: tf.keras.activations.relu(x, alpha=0.2)"
      ],
      "metadata": {
        "id": "X4G2JZfbJhnd"
      },
      "execution_count": null,
      "outputs": []
    },
    {
      "cell_type": "code",
      "source": [
        "from tensorflow.keras.models import Sequential\n",
        "model=Sequential()\n",
        "\n",
        "#model.add(Conv1D(filters=16,kernel_size=2,padding=\"same\",activation=\"relu\",input_shape=(176000,)))\n",
        "model.add(Conv1D(1, mel_bins,padding=\"same\",activation=\"relu\",input_shape=tempogram.shape ))\n",
        "model.add(BatchNormalization())\n",
        "model.add(Conv1D(1, mel_bins,padding=\"same\",activation=lrelu,input_shape=tempogram.shape ))\n",
        "model.add(BatchNormalization())\n",
        "model.add(Conv1D(1, mel_bins,padding=\"same\",activation=lrelu,input_shape=tempogram.shape ))\n",
        "model.add(BatchNormalization())\n",
        "model.add(Conv1D(1, mel_bins,padding=\"same\",activation=lrelu,input_shape=tempogram.shape ))"
      ],
      "metadata": {
        "id": "u9eh99hSGxId"
      },
      "execution_count": null,
      "outputs": []
    },
    {
      "cell_type": "code",
      "source": [
        "import cv2\n",
        "import numpy as np\n",
        "\n",
        "img1 = cv2.imread('/content/drive/MyDrive/'+'.tgram.png')\n",
        "img2 = cv2.imread('/content/drive/MyDrive/ToyCar/Normal/normal_id_01_00000000.wav_mel_spec.png')\n",
        "#Img2 = cv2.resize (img2, (480331)) # unified picture size\n",
        "\n",
        "dst = cv2.addWeighted(img1,0.5,img2,0.5,0)\n"
      ],
      "metadata": {
        "id": "8xEMCyeIDU2R"
      },
      "execution_count": 65,
      "outputs": []
    },
    {
      "cell_type": "code",
      "source": [
        "import pywt\n",
        "import cv2\n",
        "import numpy as np\n",
        "\n",
        "# This function does the coefficient fusing according to the fusion method\n",
        "def fuseCoeff(cooef1, cooef2, method):\n",
        "\n",
        "    if (method == 'mean'):\n",
        "        cooef = (cooef1 + cooef2) / 2\n",
        "    elif (method == 'min'):\n",
        "        cooef = np.minimum(cooef1,cooef2)\n",
        "    elif (method == 'max'):\n",
        "        cooef = np.maximum(cooef1,cooef2)\n",
        "    else:\n",
        "        cooef = []\n",
        "\n",
        "    return cooef\n",
        "\n",
        "\n",
        "# Params\n",
        "FUSION_METHOD = 'mean' # Can be 'min' || 'max || anything you choose according theory\n",
        "\n",
        "# Read the two image\n",
        "I1 = cv2.imread('/content/drive/MyDrive/'+'.tgram.png',0)\n",
        "I2 = cv2.imread('/content/drive/MyDrive/ToyCar/Normal/normal_id_01_00000000.wav_mel_spec.png',0)\n",
        "I2 = cv2.resize(I2,I1.shape) # I do this just because i used two random images\n",
        "\n",
        "## Fusion algo\n",
        "\n",
        "# First: Do wavelet transform on each image\n",
        "wavelet = 'db1'\n",
        "cooef1 = pywt.wavedec2(I1[:,:], wavelet)\n",
        "cooef2 = pywt.wavedec2(I2[:,:], wavelet)\n",
        "\n",
        "# Second: for each level in both image do the fusion according to the desire option\n",
        "fusedCooef = []\n",
        "for i in range(len(cooef1)-1):\n",
        "\n",
        "    # The first values in each decomposition is the apprximation values of the top level\n",
        "    if(i == 0):\n",
        "\n",
        "        fusedCooef.append(fuseCoeff(cooef1[0],cooef2[0],FUSION_METHOD))\n",
        "\n",
        "    else:\n",
        "\n",
        "        # For the rest of the levels we have tupels with 3 coeeficents\n",
        "        c1 = fuseCoeff(cooef1[i][0],cooef2[i][0],FUSION_METHOD)\n",
        "        c2 = fuseCoeff(cooef1[i][1], cooef2[i][1], FUSION_METHOD)\n",
        "        c3 = fuseCoeff(cooef1[i][2], cooef2[i][2], FUSION_METHOD)\n",
        "\n",
        "        fusedCooef.append((c1,c2,c3))\n",
        "# Third: After we fused the cooefficent we nned to transfor back to get the image\n",
        "fusedImage = pywt.waverec2(fusedCooef, wavelet)\n",
        "\n",
        "# Forth: normmalize values to be in uint8\n",
        "fusedImage = np.multiply(np.divide(fusedImage - np.min(fusedImage),(np.max(fusedImage) - np.min(fusedImage))),255)\n",
        "fusedImage = fusedImage.astype(np.uint8)\n",
        "\n",
        "# Fith: Show image\n",
        "cv2.imshow(\"win\",fusedImage)"
      ],
      "metadata": {
        "colab": {
          "base_uri": "https://localhost:8080/",
          "height": 357
        },
        "id": "szXJzEMCG7n9",
        "outputId": "76e73893-0d61-4944-9e35-ae9da8e26424"
      },
      "execution_count": 66,
      "outputs": [
        {
          "output_type": "error",
          "ename": "ValueError",
          "evalue": "ignored",
          "traceback": [
            "\u001b[0;31m---------------------------------------------------------------------------\u001b[0m",
            "\u001b[0;31mValueError\u001b[0m                                Traceback (most recent call last)",
            "\u001b[0;32m<ipython-input-66-085fc389c3c2>\u001b[0m in \u001b[0;36m<module>\u001b[0;34m()\u001b[0m\n\u001b[1;32m     45\u001b[0m \u001b[0;34m\u001b[0m\u001b[0m\n\u001b[1;32m     46\u001b[0m         \u001b[0;31m# For the rest of the levels we have tupels with 3 coeeficents\u001b[0m\u001b[0;34m\u001b[0m\u001b[0;34m\u001b[0m\u001b[0;34m\u001b[0m\u001b[0m\n\u001b[0;32m---> 47\u001b[0;31m         \u001b[0mc1\u001b[0m \u001b[0;34m=\u001b[0m \u001b[0mfuseCoeff\u001b[0m\u001b[0;34m(\u001b[0m\u001b[0mcooef1\u001b[0m\u001b[0;34m[\u001b[0m\u001b[0mi\u001b[0m\u001b[0;34m]\u001b[0m\u001b[0;34m[\u001b[0m\u001b[0;36m0\u001b[0m\u001b[0;34m]\u001b[0m\u001b[0;34m,\u001b[0m\u001b[0mcooef2\u001b[0m\u001b[0;34m[\u001b[0m\u001b[0mi\u001b[0m\u001b[0;34m]\u001b[0m\u001b[0;34m[\u001b[0m\u001b[0;36m0\u001b[0m\u001b[0;34m]\u001b[0m\u001b[0;34m,\u001b[0m\u001b[0mFUSION_METHOD\u001b[0m\u001b[0;34m)\u001b[0m\u001b[0;34m\u001b[0m\u001b[0;34m\u001b[0m\u001b[0m\n\u001b[0m\u001b[1;32m     48\u001b[0m         \u001b[0mc2\u001b[0m \u001b[0;34m=\u001b[0m \u001b[0mfuseCoeff\u001b[0m\u001b[0;34m(\u001b[0m\u001b[0mcooef1\u001b[0m\u001b[0;34m[\u001b[0m\u001b[0mi\u001b[0m\u001b[0;34m]\u001b[0m\u001b[0;34m[\u001b[0m\u001b[0;36m1\u001b[0m\u001b[0;34m]\u001b[0m\u001b[0;34m,\u001b[0m \u001b[0mcooef2\u001b[0m\u001b[0;34m[\u001b[0m\u001b[0mi\u001b[0m\u001b[0;34m]\u001b[0m\u001b[0;34m[\u001b[0m\u001b[0;36m1\u001b[0m\u001b[0;34m]\u001b[0m\u001b[0;34m,\u001b[0m \u001b[0mFUSION_METHOD\u001b[0m\u001b[0;34m)\u001b[0m\u001b[0;34m\u001b[0m\u001b[0;34m\u001b[0m\u001b[0m\n\u001b[1;32m     49\u001b[0m         \u001b[0mc3\u001b[0m \u001b[0;34m=\u001b[0m \u001b[0mfuseCoeff\u001b[0m\u001b[0;34m(\u001b[0m\u001b[0mcooef1\u001b[0m\u001b[0;34m[\u001b[0m\u001b[0mi\u001b[0m\u001b[0;34m]\u001b[0m\u001b[0;34m[\u001b[0m\u001b[0;36m2\u001b[0m\u001b[0;34m]\u001b[0m\u001b[0;34m,\u001b[0m \u001b[0mcooef2\u001b[0m\u001b[0;34m[\u001b[0m\u001b[0mi\u001b[0m\u001b[0;34m]\u001b[0m\u001b[0;34m[\u001b[0m\u001b[0;36m2\u001b[0m\u001b[0;34m]\u001b[0m\u001b[0;34m,\u001b[0m \u001b[0mFUSION_METHOD\u001b[0m\u001b[0;34m)\u001b[0m\u001b[0;34m\u001b[0m\u001b[0;34m\u001b[0m\u001b[0m\n",
            "\u001b[0;32m<ipython-input-66-085fc389c3c2>\u001b[0m in \u001b[0;36mfuseCoeff\u001b[0;34m(cooef1, cooef2, method)\u001b[0m\n\u001b[1;32m      7\u001b[0m \u001b[0;34m\u001b[0m\u001b[0m\n\u001b[1;32m      8\u001b[0m     \u001b[0;32mif\u001b[0m \u001b[0;34m(\u001b[0m\u001b[0mmethod\u001b[0m \u001b[0;34m==\u001b[0m \u001b[0;34m'mean'\u001b[0m\u001b[0;34m)\u001b[0m\u001b[0;34m:\u001b[0m\u001b[0;34m\u001b[0m\u001b[0;34m\u001b[0m\u001b[0m\n\u001b[0;32m----> 9\u001b[0;31m         \u001b[0mcooef\u001b[0m \u001b[0;34m=\u001b[0m \u001b[0;34m(\u001b[0m\u001b[0mcooef1\u001b[0m \u001b[0;34m+\u001b[0m \u001b[0mcooef2\u001b[0m\u001b[0;34m)\u001b[0m \u001b[0;34m/\u001b[0m \u001b[0;36m2\u001b[0m\u001b[0;34m\u001b[0m\u001b[0;34m\u001b[0m\u001b[0m\n\u001b[0m\u001b[1;32m     10\u001b[0m     \u001b[0;32melif\u001b[0m \u001b[0;34m(\u001b[0m\u001b[0mmethod\u001b[0m \u001b[0;34m==\u001b[0m \u001b[0;34m'min'\u001b[0m\u001b[0;34m)\u001b[0m\u001b[0;34m:\u001b[0m\u001b[0;34m\u001b[0m\u001b[0;34m\u001b[0m\u001b[0m\n\u001b[1;32m     11\u001b[0m         \u001b[0mcooef\u001b[0m \u001b[0;34m=\u001b[0m \u001b[0mnp\u001b[0m\u001b[0;34m.\u001b[0m\u001b[0mminimum\u001b[0m\u001b[0;34m(\u001b[0m\u001b[0mcooef1\u001b[0m\u001b[0;34m,\u001b[0m\u001b[0mcooef2\u001b[0m\u001b[0;34m)\u001b[0m\u001b[0;34m\u001b[0m\u001b[0;34m\u001b[0m\u001b[0m\n",
            "\u001b[0;31mValueError\u001b[0m: operands could not be broadcast together with shapes (3,4) (4,3) "
          ]
        }
      ]
    },
    {
      "cell_type": "code",
      "source": [
        "import pywt\n",
        "import numpy as np\n",
        "import matplotlib.pyplot as plt\n",
        "import random\n",
        "import cv2\n",
        "\n",
        "def channelTransform(ch1,ch2, shape):\n",
        "    cooef1 = pywt.dwt2(ch1, 'db5', mode = 'periodization')\n",
        "    cooef2 = pywt.dwt2(ch2, 'db5', mode = 'periodization')\n",
        "    cA1, (cH1, cV1, cD1) = cooef1\n",
        "    cA2, (cH2, cV2, cD2) = cooef2\n",
        "\n",
        "    cA = (cA1+cA2)/2\n",
        "    cH = (cH1 +cH2)/2\n",
        "    cV = (cV1+cV2)/2\n",
        "    cD = (cD1+cD2)/2\n",
        "    fincoC = cA, (cH,cV,cD)\n",
        "    outImageC = pywt.idwt2(fincoC, 'db5', mode = 'periodization')\n",
        "    outImageC = cv2.resize(outImageC,(shape[0],shape[1])) \n",
        "    return outImageC"
      ],
      "metadata": {
        "id": "vzFpMwfeJP5P"
      },
      "execution_count": 69,
      "outputs": []
    },
    {
      "cell_type": "code",
      "source": [
        "def fusion(img1, img2):\n",
        "    # Params\n",
        "    FUSION_METHOD = 'mean' # Can be 'min' || 'max || anything you choose according theory\n",
        "\n",
        "    # Read the two image\n",
        "    I1 = cv2.imread(img1)\n",
        "    I2 = cv2.imread(img2)\n",
        "\n",
        "    # Resizing image if both are in different shapes\n",
        "    I2 = cv2.resize(I2,(I1.shape[1],I1.shape[0])) \n",
        "    \n",
        "    print (I1.shape)\n",
        "    print (I2.shape)\n",
        "    ## Seperating channels\n",
        "    iR1 = I1.copy()\n",
        "    iR1[:,:,1] = iR1[:,:,2] = 0\n",
        "    iR2 = I2.copy()\n",
        "    iR2[:,:,1] = iR2[:,:,2] = 0\n",
        "\n",
        "    iG1 = I1.copy()\n",
        "    iG1[:,:,0] = iG1[:,:,2] = 0\n",
        "    iG2 = I2.copy()\n",
        "    iG2[:,:,0] = iG2[:,:,2] = 0\n",
        "\n",
        "    iB1 = I1.copy()\n",
        "    iB1[:,:,0] = iB1[:,:,1] = 0\n",
        "    iB2 = I2.copy()\n",
        "    iB2[:,:,0] = iB2[:,:,1] = 0\n",
        "\n",
        "    shape = (I1.shape[1], I1.shape[0])\n",
        "    # Wavelet transformation on red channel\n",
        "    outImageR = channelTransform(iR1, iR2, shape)\n",
        "    outImageG = channelTransform(iG1, iG2, shape)\n",
        "    outImageB = channelTransform(iB1, iB2, shape)\n",
        "\n",
        "    outImage = I1.copy()\n",
        "    outImage[:,:,0] = outImage[:,:,1] = outImage[:,:,2] = 0\n",
        "    outImage[:,:,0] = outImageR[:,:,0]\n",
        "    outImage[:,:,1] = outImageG[:,:,1]\n",
        "    outImage[:,:,2] = outImageB[:,:,2] \n",
        "\n",
        "    outImage = np.multiply(np.divide(outImage - np.min(outImage),(np.max(outImage) - np.min(outImage))),255)\n",
        "    outImage = outImage.astype(np.uint8)\n",
        "\n",
        "    x = random.randint(1000, 2000)\n",
        "    loc = '/content/drive/MyDrive/'+str(x)+'fusedimg.png'\n",
        "    cv2.imwrite(loc,outImage)\n",
        "\n",
        "    return loc"
      ],
      "metadata": {
        "id": "md5IZjyAHOwf"
      },
      "execution_count": 78,
      "outputs": []
    },
    {
      "cell_type": "code",
      "source": [
        "fusion('/content/drive/MyDrive/'+'.tgram.png','/content/drive/MyDrive/ToyCar/Normal/normal_id_01_00000000.wav_mel_spec.png')"
      ],
      "metadata": {
        "colab": {
          "base_uri": "https://localhost:8080/",
          "height": 71
        },
        "id": "c6TjBFb7I5Re",
        "outputId": "197ce7fa-49dc-4afc-b3c2-6e295a27ce79"
      },
      "execution_count": 79,
      "outputs": [
        {
          "output_type": "stream",
          "name": "stdout",
          "text": [
            "(288, 432, 3)\n",
            "(288, 432, 3)\n"
          ]
        },
        {
          "output_type": "execute_result",
          "data": {
            "text/plain": [
              "'/content/drive/MyDrive/1064fusedimg.png'"
            ],
            "application/vnd.google.colaboratory.intrinsic+json": {
              "type": "string"
            }
          },
          "metadata": {},
          "execution_count": 79
        }
      ]
    },
    {
      "cell_type": "code",
      "source": [
        "import cv2\n",
        "I = cv2.imread('demo/out1231.jpg')"
      ],
      "metadata": {
        "id": "C3cI9BQ4JMF1"
      },
      "execution_count": 77,
      "outputs": []
    },
    {
      "cell_type": "code",
      "source": [
        "plt.imshow(I)\n",
        "plt.show()"
      ],
      "metadata": {
        "colab": {
          "base_uri": "https://localhost:8080/",
          "height": 581
        },
        "id": "xUubxAJKJX0T",
        "outputId": "fc332e1f-13da-4728-dcd3-d7364e48d6be"
      },
      "execution_count": 73,
      "outputs": [
        {
          "output_type": "error",
          "ename": "TypeError",
          "evalue": "ignored",
          "traceback": [
            "\u001b[0;31m---------------------------------------------------------------------------\u001b[0m",
            "\u001b[0;31mTypeError\u001b[0m                                 Traceback (most recent call last)",
            "\u001b[0;32m<ipython-input-73-83c3ec9605a7>\u001b[0m in \u001b[0;36m<module>\u001b[0;34m()\u001b[0m\n\u001b[0;32m----> 1\u001b[0;31m \u001b[0mplt\u001b[0m\u001b[0;34m.\u001b[0m\u001b[0mimshow\u001b[0m\u001b[0;34m(\u001b[0m\u001b[0mI\u001b[0m\u001b[0;34m)\u001b[0m\u001b[0;34m\u001b[0m\u001b[0;34m\u001b[0m\u001b[0m\n\u001b[0m\u001b[1;32m      2\u001b[0m \u001b[0mplt\u001b[0m\u001b[0;34m.\u001b[0m\u001b[0mshow\u001b[0m\u001b[0;34m(\u001b[0m\u001b[0;34m)\u001b[0m\u001b[0;34m\u001b[0m\u001b[0;34m\u001b[0m\u001b[0m\n",
            "\u001b[0;32m/usr/local/lib/python3.7/dist-packages/matplotlib/pyplot.py\u001b[0m in \u001b[0;36mimshow\u001b[0;34m(X, cmap, norm, aspect, interpolation, alpha, vmin, vmax, origin, extent, shape, filternorm, filterrad, imlim, resample, url, data, **kwargs)\u001b[0m\n\u001b[1;32m   2649\u001b[0m         \u001b[0mfilternorm\u001b[0m\u001b[0;34m=\u001b[0m\u001b[0mfilternorm\u001b[0m\u001b[0;34m,\u001b[0m \u001b[0mfilterrad\u001b[0m\u001b[0;34m=\u001b[0m\u001b[0mfilterrad\u001b[0m\u001b[0;34m,\u001b[0m \u001b[0mimlim\u001b[0m\u001b[0;34m=\u001b[0m\u001b[0mimlim\u001b[0m\u001b[0;34m,\u001b[0m\u001b[0;34m\u001b[0m\u001b[0;34m\u001b[0m\u001b[0m\n\u001b[1;32m   2650\u001b[0m         resample=resample, url=url, **({\"data\": data} if data is not\n\u001b[0;32m-> 2651\u001b[0;31m         None else {}), **kwargs)\n\u001b[0m\u001b[1;32m   2652\u001b[0m     \u001b[0msci\u001b[0m\u001b[0;34m(\u001b[0m\u001b[0m__ret\u001b[0m\u001b[0;34m)\u001b[0m\u001b[0;34m\u001b[0m\u001b[0;34m\u001b[0m\u001b[0m\n\u001b[1;32m   2653\u001b[0m     \u001b[0;32mreturn\u001b[0m \u001b[0m__ret\u001b[0m\u001b[0;34m\u001b[0m\u001b[0;34m\u001b[0m\u001b[0m\n",
            "\u001b[0;32m/usr/local/lib/python3.7/dist-packages/matplotlib/__init__.py\u001b[0m in \u001b[0;36minner\u001b[0;34m(ax, data, *args, **kwargs)\u001b[0m\n\u001b[1;32m   1563\u001b[0m     \u001b[0;32mdef\u001b[0m \u001b[0minner\u001b[0m\u001b[0;34m(\u001b[0m\u001b[0max\u001b[0m\u001b[0;34m,\u001b[0m \u001b[0;34m*\u001b[0m\u001b[0margs\u001b[0m\u001b[0;34m,\u001b[0m \u001b[0mdata\u001b[0m\u001b[0;34m=\u001b[0m\u001b[0;32mNone\u001b[0m\u001b[0;34m,\u001b[0m \u001b[0;34m**\u001b[0m\u001b[0mkwargs\u001b[0m\u001b[0;34m)\u001b[0m\u001b[0;34m:\u001b[0m\u001b[0;34m\u001b[0m\u001b[0;34m\u001b[0m\u001b[0m\n\u001b[1;32m   1564\u001b[0m         \u001b[0;32mif\u001b[0m \u001b[0mdata\u001b[0m \u001b[0;32mis\u001b[0m \u001b[0;32mNone\u001b[0m\u001b[0;34m:\u001b[0m\u001b[0;34m\u001b[0m\u001b[0;34m\u001b[0m\u001b[0m\n\u001b[0;32m-> 1565\u001b[0;31m             \u001b[0;32mreturn\u001b[0m \u001b[0mfunc\u001b[0m\u001b[0;34m(\u001b[0m\u001b[0max\u001b[0m\u001b[0;34m,\u001b[0m \u001b[0;34m*\u001b[0m\u001b[0mmap\u001b[0m\u001b[0;34m(\u001b[0m\u001b[0msanitize_sequence\u001b[0m\u001b[0;34m,\u001b[0m \u001b[0margs\u001b[0m\u001b[0;34m)\u001b[0m\u001b[0;34m,\u001b[0m \u001b[0;34m**\u001b[0m\u001b[0mkwargs\u001b[0m\u001b[0;34m)\u001b[0m\u001b[0;34m\u001b[0m\u001b[0;34m\u001b[0m\u001b[0m\n\u001b[0m\u001b[1;32m   1566\u001b[0m \u001b[0;34m\u001b[0m\u001b[0m\n\u001b[1;32m   1567\u001b[0m         \u001b[0mbound\u001b[0m \u001b[0;34m=\u001b[0m \u001b[0mnew_sig\u001b[0m\u001b[0;34m.\u001b[0m\u001b[0mbind\u001b[0m\u001b[0;34m(\u001b[0m\u001b[0max\u001b[0m\u001b[0;34m,\u001b[0m \u001b[0;34m*\u001b[0m\u001b[0margs\u001b[0m\u001b[0;34m,\u001b[0m \u001b[0;34m**\u001b[0m\u001b[0mkwargs\u001b[0m\u001b[0;34m)\u001b[0m\u001b[0;34m\u001b[0m\u001b[0;34m\u001b[0m\u001b[0m\n",
            "\u001b[0;32m/usr/local/lib/python3.7/dist-packages/matplotlib/cbook/deprecation.py\u001b[0m in \u001b[0;36mwrapper\u001b[0;34m(*args, **kwargs)\u001b[0m\n\u001b[1;32m    356\u001b[0m                 \u001b[0;34mf\"%(removal)s.  If any parameter follows {name!r}, they \"\u001b[0m\u001b[0;34m\u001b[0m\u001b[0;34m\u001b[0m\u001b[0m\n\u001b[1;32m    357\u001b[0m                 f\"should be pass as keyword, not positionally.\")\n\u001b[0;32m--> 358\u001b[0;31m         \u001b[0;32mreturn\u001b[0m \u001b[0mfunc\u001b[0m\u001b[0;34m(\u001b[0m\u001b[0;34m*\u001b[0m\u001b[0margs\u001b[0m\u001b[0;34m,\u001b[0m \u001b[0;34m**\u001b[0m\u001b[0mkwargs\u001b[0m\u001b[0;34m)\u001b[0m\u001b[0;34m\u001b[0m\u001b[0;34m\u001b[0m\u001b[0m\n\u001b[0m\u001b[1;32m    359\u001b[0m \u001b[0;34m\u001b[0m\u001b[0m\n\u001b[1;32m    360\u001b[0m     \u001b[0;32mreturn\u001b[0m \u001b[0mwrapper\u001b[0m\u001b[0;34m\u001b[0m\u001b[0;34m\u001b[0m\u001b[0m\n",
            "\u001b[0;32m/usr/local/lib/python3.7/dist-packages/matplotlib/cbook/deprecation.py\u001b[0m in \u001b[0;36mwrapper\u001b[0;34m(*args, **kwargs)\u001b[0m\n\u001b[1;32m    356\u001b[0m                 \u001b[0;34mf\"%(removal)s.  If any parameter follows {name!r}, they \"\u001b[0m\u001b[0;34m\u001b[0m\u001b[0;34m\u001b[0m\u001b[0m\n\u001b[1;32m    357\u001b[0m                 f\"should be pass as keyword, not positionally.\")\n\u001b[0;32m--> 358\u001b[0;31m         \u001b[0;32mreturn\u001b[0m \u001b[0mfunc\u001b[0m\u001b[0;34m(\u001b[0m\u001b[0;34m*\u001b[0m\u001b[0margs\u001b[0m\u001b[0;34m,\u001b[0m \u001b[0;34m**\u001b[0m\u001b[0mkwargs\u001b[0m\u001b[0;34m)\u001b[0m\u001b[0;34m\u001b[0m\u001b[0;34m\u001b[0m\u001b[0m\n\u001b[0m\u001b[1;32m    359\u001b[0m \u001b[0;34m\u001b[0m\u001b[0m\n\u001b[1;32m    360\u001b[0m     \u001b[0;32mreturn\u001b[0m \u001b[0mwrapper\u001b[0m\u001b[0;34m\u001b[0m\u001b[0;34m\u001b[0m\u001b[0m\n",
            "\u001b[0;32m/usr/local/lib/python3.7/dist-packages/matplotlib/axes/_axes.py\u001b[0m in \u001b[0;36mimshow\u001b[0;34m(self, X, cmap, norm, aspect, interpolation, alpha, vmin, vmax, origin, extent, shape, filternorm, filterrad, imlim, resample, url, **kwargs)\u001b[0m\n\u001b[1;32m   5624\u001b[0m                               resample=resample, **kwargs)\n\u001b[1;32m   5625\u001b[0m \u001b[0;34m\u001b[0m\u001b[0m\n\u001b[0;32m-> 5626\u001b[0;31m         \u001b[0mim\u001b[0m\u001b[0;34m.\u001b[0m\u001b[0mset_data\u001b[0m\u001b[0;34m(\u001b[0m\u001b[0mX\u001b[0m\u001b[0;34m)\u001b[0m\u001b[0;34m\u001b[0m\u001b[0;34m\u001b[0m\u001b[0m\n\u001b[0m\u001b[1;32m   5627\u001b[0m         \u001b[0mim\u001b[0m\u001b[0;34m.\u001b[0m\u001b[0mset_alpha\u001b[0m\u001b[0;34m(\u001b[0m\u001b[0malpha\u001b[0m\u001b[0;34m)\u001b[0m\u001b[0;34m\u001b[0m\u001b[0;34m\u001b[0m\u001b[0m\n\u001b[1;32m   5628\u001b[0m         \u001b[0;32mif\u001b[0m \u001b[0mim\u001b[0m\u001b[0;34m.\u001b[0m\u001b[0mget_clip_path\u001b[0m\u001b[0;34m(\u001b[0m\u001b[0;34m)\u001b[0m \u001b[0;32mis\u001b[0m \u001b[0;32mNone\u001b[0m\u001b[0;34m:\u001b[0m\u001b[0;34m\u001b[0m\u001b[0;34m\u001b[0m\u001b[0m\n",
            "\u001b[0;32m/usr/local/lib/python3.7/dist-packages/matplotlib/image.py\u001b[0m in \u001b[0;36mset_data\u001b[0;34m(self, A)\u001b[0m\n\u001b[1;32m    692\u001b[0m                 not np.can_cast(self._A.dtype, float, \"same_kind\")):\n\u001b[1;32m    693\u001b[0m             raise TypeError(\"Image data of dtype {} cannot be converted to \"\n\u001b[0;32m--> 694\u001b[0;31m                             \"float\".format(self._A.dtype))\n\u001b[0m\u001b[1;32m    695\u001b[0m \u001b[0;34m\u001b[0m\u001b[0m\n\u001b[1;32m    696\u001b[0m         if not (self._A.ndim == 2\n",
            "\u001b[0;31mTypeError\u001b[0m: Image data of dtype object cannot be converted to float"
          ]
        },
        {
          "output_type": "display_data",
          "data": {
            "text/plain": [
              "<Figure size 432x288 with 1 Axes>"
            ],
            "image/png": "[encoded data removed]"
          },
          "metadata": {
            "needs_background": "light"
          }
        }
      ]
    },
    {
      "cell_type": "code",
      "source": [
        ""
      ],
      "metadata": {
        "id": "Nv0J4Xi6JbvK"
      },
      "execution_count": null,
      "outputs": []
    },
    {
      "cell_type": "code",
      "source": [
        "from google.colab import drive\n",
        "drive.mount('/content/drive')"
      ],
      "metadata": {
        "colab": {
          "base_uri": "https://localhost:8080/"
        },
        "id": "1pdR73h7PqoT",
        "outputId": "1e5a7bb5-d1a3-4379-c786-d99fe382785f"
      },
      "execution_count": 1,
      "outputs": [
        {
          "output_type": "stream",
          "name": "stdout",
          "text": [
            "Drive already mounted at /content/drive; to attempt to forcibly remount, call drive.mount(\"/content/drive\", force_remount=True).\n"
          ]
        }
      ]
    },
    {
      "cell_type": "code",
      "source": [
        "!git clone https://github.com/akhilapidikiti/AE.git"
      ],
      "metadata": {
        "colab": {
          "base_uri": "https://localhost:8080/"
        },
        "id": "M_ud2DK9Pq-O",
        "outputId": "5d29e9fb-d402-4c2d-8764-7db8d68a2b9a"
      },
      "execution_count": 2,
      "outputs": [
        {
          "output_type": "stream",
          "name": "stdout",
          "text": [
            "Cloning into 'AE'...\n",
            "warning: You appear to have cloned an empty repository.\n"
          ]
        }
      ]
    },
    {
      "cell_type": "code",
      "source": [
        "sudo apt install git"
      ],
      "metadata": {
        "colab": {
          "base_uri": "https://localhost:8080/",
          "height": 131
        },
        "id": "WwjsVtCBPyd1",
        "outputId": "7b0fe9aa-20e1-40eb-c185-f5cba9c01bc0"
      },
      "execution_count": 3,
      "outputs": [
        {
          "output_type": "error",
          "ename": "SyntaxError",
          "evalue": "ignored",
          "traceback": [
            "\u001b[0;36m  File \u001b[0;32m\"<ipython-input-3-f9341efabed1>\"\u001b[0;36m, line \u001b[0;32m1\u001b[0m\n\u001b[0;31m    sudo apt install git\u001b[0m\n\u001b[0m           ^\u001b[0m\n\u001b[0;31mSyntaxError\u001b[0m\u001b[0;31m:\u001b[0m invalid syntax\n"
          ]
        }
      ]
    },
    {
      "cell_type": "code",
      "source": [
        "git add /content/drive/MyDrive"
      ],
      "metadata": {
        "colab": {
          "base_uri": "https://localhost:8080/",
          "height": 131
        },
        "id": "JfnPeNjhXCJ7",
        "outputId": "e0488fc2-8e10-4c7b-b196-3e79d5da262c"
      },
      "execution_count": 4,
      "outputs": [
        {
          "output_type": "error",
          "ename": "SyntaxError",
          "evalue": "ignored",
          "traceback": [
            "\u001b[0;36m  File \u001b[0;32m\"<ipython-input-4-505938c091d0>\"\u001b[0;36m, line \u001b[0;32m1\u001b[0m\n\u001b[0;31m    git add /content/drive/MyDrive\u001b[0m\n\u001b[0m          ^\u001b[0m\n\u001b[0;31mSyntaxError\u001b[0m\u001b[0;31m:\u001b[0m invalid syntax\n"
          ]
        }
      ]
    },
    {
      "cell_type": "code",
      "source": [
        ""
      ],
      "metadata": {
        "id": "tWr-i8QLXNm3"
      },
      "execution_count": null,
      "outputs": []
    }
  ]
}